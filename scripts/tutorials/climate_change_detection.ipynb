{
 "cells": [
  {
   "cell_type": "markdown",
   "id": "cd1ba36a-9969-4727-a37e-db2a8c9a4b07",
   "metadata": {},
   "source": [
    "## Part 1: Set filepaths"
   ]
  },
  {
   "cell_type": "markdown",
   "id": "2670c3a9-2dea-4429-a138-5ca395f572b7",
   "metadata": {},
   "source": [
    "### Check if we're running in Google Colab\n",
    "If you are running in Google Colab, you may have to run the cell below twice because the kernel crashes; I'm not sure why this happens."
   ]
  },
  {
   "cell_type": "code",
   "execution_count": null,
   "id": "eb1c30d7-5433-473c-85a8-08723babd4b6",
   "metadata": {},
   "outputs": [],
   "source": [
    "## check if we're in Colab\n",
    "try:\n",
    "    import google.colab\n",
    "\n",
    "    ## install cftime package\n",
    "    !pip install -q condacolab\n",
    "    import condacolab\n",
    "\n",
    "    condacolab.install()\n",
    "\n",
    "    ## install extra packages to colab environment\n",
    "    !mamba install -c conda-forge cftime\n",
    "\n",
    "    ## connect to Google Drive\n",
    "    from google.colab import drive\n",
    "\n",
    "    drive.mount(\"/content/drive\")\n",
    "\n",
    "    ## flag telling us the notebook is running in Colab\n",
    "    IN_COLAB = True\n",
    "\n",
    "except:\n",
    "    IN_COLAB = False"
   ]
  },
  {
   "cell_type": "markdown",
   "id": "b6811316-50a2-4826-9e74-85b8e5fd9c56",
   "metadata": {},
   "source": [
    "### <mark>To-do</mark>: update filepaths\n",
    "__To run this notebook, you'll need to update the filepaths below__, which specify the location of the data (otherwise, you'll get a ```FileNotFoundError``` message when you try to open the data). These filepaths will differ for Mac vs. Windows users and depend on how you've accessed the data (e.g., mounting the WHOI file server or downloading the data)."
   ]
  },
  {
   "cell_type": "code",
   "execution_count": null,
   "id": "a8da4789-2d3a-41d4-ae5f-67fca703c5d7",
   "metadata": {},
   "outputs": [],
   "source": [
    "if IN_COLAB:\n",
    "\n",
    "    ## These are the paths to update if you're using Google Colab.\n",
    "    ## 'hist_path' is filepath for historical data.\n",
    "    ## 'pico_path' is filepath for pre-industrial control data\n",
    "    hist_path = \"/content/drive/My Drive/climate-data\"\n",
    "    pico_path = \"/content/drive/My Drive/climate-data/tas_Amon_CESM2_piControl\"\n",
    "\n",
    "else:\n",
    "\n",
    "    ## These are the paths to update if you're not using Google Colab.\n",
    "    hist_path = (\n",
    "        \"/Volumes/cmip6/data/cmip6/CMIP/NCAR/CESM2/historical/r1i1p1f1/Amon/tas/gn/1\"\n",
    "    )\n",
    "\n",
    "    pico_path = (\n",
    "        \"/Volumes/cmip6/data/cmip6/CMIP/NCAR/CESM2/piControl/r1i1p1f1/Amon/tas/gn/1\"\n",
    "    )"
   ]
  },
  {
   "cell_type": "markdown",
   "id": "fd07d469-be2a-4a12-865f-556cad367901",
   "metadata": {},
   "source": [
    "### Import packages"
   ]
  },
  {
   "cell_type": "code",
   "execution_count": null,
   "id": "42de5f8d-b9a3-4a26-a062-b2b1127e0d53",
   "metadata": {},
   "outputs": [],
   "source": [
    "import xarray as xr\n",
    "import numpy as np\n",
    "import os\n",
    "import time\n",
    "import tqdm\n",
    "import glob\n",
    "import matplotlib.pyplot as plt\n",
    "import seaborn as sns\n",
    "import pandas as pd\n",
    "\n",
    "## set default plot style\n",
    "sns.set(rc={\"axes.facecolor\": \"white\", \"axes.grid\": False})\n",
    "\n",
    "## initialize random number generator\n",
    "rng = np.random.default_rng()"
   ]
  },
  {
   "cell_type": "markdown",
   "id": "12c90f62-10f1-4a2a-a5dd-6c808fb52873",
   "metadata": {},
   "source": [
    "## Part 2: Open CESM data and compute the WH index"
   ]
  },
  {
   "cell_type": "markdown",
   "id": "9f8b0637-4f8f-4d17-9a59-59db1f7aa990",
   "metadata": {},
   "source": [
    "### Pre-processing function.\n",
    "This function should trim the data in lon/lat space. We'll use this function to reduce the amount of data we need to load into memory"
   ]
  },
  {
   "cell_type": "code",
   "execution_count": null,
   "id": "3210192e-b659-46ba-91de-561dd60d33e3",
   "metadata": {},
   "outputs": [],
   "source": [
    "def trim(data):\n",
    "    \"\"\"\n",
    "    Trim data in lon/lat space to a region around Woods Hole.\n",
    "    Woods Hole has (lon,lat) coords of approximately (288.5, 41.5).\n",
    "\n",
    "    Args:\n",
    "        data: xr.DataArray object\n",
    "\n",
    "    Returns:\n",
    "        data_trimmed : xr.DataArray object\n",
    "    \"\"\"\n",
    "\n",
    "    ## Trim the data in lon/lat space\n",
    "    data_trimmed = data.sel(lon=slice(270, 310), lat=slice(20, 60))\n",
    "\n",
    "    return data_trimmed"
   ]
  },
  {
   "cell_type": "markdown",
   "id": "98f45c6f-3d2f-4219-a729-ca3129e60c60",
   "metadata": {},
   "source": [
    "### Open *historical* data.\n",
    "We'll open the data from the historical simulation, trim it using the ```trim``` function from above, and load it into memory. Note that without ```mask_and_scale=False``` you may get a warning related to NaN fill values."
   ]
  },
  {
   "cell_type": "code",
   "execution_count": null,
   "id": "d04c2b5c-9f6a-4402-a961-4e1e8e52efbe",
   "metadata": {},
   "outputs": [],
   "source": [
    "## filename for the historical simulation data\n",
    "hist_filename = \"tas_Amon_CESM2_historical_r1i1p1f1_gn_185001-201412.nc\"\n",
    "\n",
    "## 'full' path to the data\n",
    "hist_full_path = os.path.join(hist_path, hist_filename)\n",
    "\n",
    "## open the data\n",
    "T2m_hist = xr.open_dataset(hist_full_path, mask_and_scale=False)\n",
    "\n",
    "## trim in space\n",
    "T2m_hist = trim(T2m_hist).compute()\n",
    "\n",
    "## select 'tas' variable and load into memory\n",
    "T2m_hist = T2m_hist[\"tas\"].compute()"
   ]
  },
  {
   "cell_type": "markdown",
   "id": "0e433b89-1f25-40c6-b11e-c1012367b9d6",
   "metadata": {},
   "source": [
    "### Open *PI control* data\n",
    "We'll do this using ```xr.open_mfdataset```. To speed up the data-loading process, we'll pass the pre-processing function ```trim``` as an argument to ```xr.open_mfdataset```."
   ]
  },
  {
   "cell_type": "code",
   "execution_count": null,
   "id": "8a707119-e169-4d6a-9126-57cb2607fff4",
   "metadata": {},
   "outputs": [],
   "source": [
    "## Get file pattern of files to load\n",
    "file_pattern = os.path.join(pico_path, \"*.nc\")\n",
    "\n",
    "## Now, open the dataset\n",
    "T2m_pico = xr.open_mfdataset(file_pattern, preprocess=trim, mask_and_scale=False)\n",
    "\n",
    "## Finally, load it into memory\n",
    "T2m_pico = T2m_pico[\"tas\"].compute()"
   ]
  },
  {
   "cell_type": "markdown",
   "id": "b77a23bd-c96d-4f36-bde8-7a0f16b7aa67",
   "metadata": {},
   "source": [
    "### Compute Woods Hole \"climate index\""
   ]
  },
  {
   "cell_type": "markdown",
   "id": "3aef7a3a-7d78-4ed6-8ddf-fb56b40f0e20",
   "metadata": {},
   "source": [
    "First, we'll write a function to compute the index. Then, we'll apply it to both datasets."
   ]
  },
  {
   "cell_type": "code",
   "execution_count": null,
   "id": "2628b2ef-0f19-467e-8050-4e58e59ff9db",
   "metadata": {},
   "outputs": [],
   "source": [
    "def WH_index(T2m):\n",
    "    \"\"\"Function to compute 'Woods Hole climate index. We'll define\n",
    "    this index as the annual-average temperature in the gridcell\n",
    "    closest to the (lon, lat) point (288.5, 41.5).\n",
    "\n",
    "    Args:\n",
    "        T2m: xr.DataArray with dimensions (lon, lat, time)\n",
    "\n",
    "    Returns:\n",
    "        T2m_WH: xr. DataArray with dimension (year)\n",
    "    \"\"\"\n",
    "\n",
    "    ## first, interpolate close to Woods Hole\n",
    "    T2m_WH = T2m.interp(lat=41.5, lon=288.5, method=\"nearest\")\n",
    "\n",
    "    ## then, get annual average\n",
    "    T2m_WH = T2m_WH.groupby(\"time.year\").mean()\n",
    "\n",
    "    return T2m_WH\n",
    "\n",
    "\n",
    "## Next, apply it to the datasets\n",
    "T2m_WH_hist = WH_index(T2m_hist)\n",
    "T2m_WH_pico = WH_index(T2m_pico)"
   ]
  },
  {
   "cell_type": "markdown",
   "id": "e8b052d1-8f26-476f-8fd0-a478cab71485",
   "metadata": {},
   "source": [
    "### Plot the two timeseries"
   ]
  },
  {
   "cell_type": "code",
   "execution_count": null,
   "id": "1e931340-f073-41c7-9537-989718ecd9e5",
   "metadata": {},
   "outputs": [],
   "source": [
    "## blank canvas for plotting\n",
    "fig, axs = plt.subplots(1, 2, figsize=(7, 2.5))\n",
    "\n",
    "#### First subplot: PI control and historical\n",
    "axs[0].set_title(\"PI control and historical\")\n",
    "axs[0].set_xlabel(\"Year\")\n",
    "axs[0].set_ylabel(r\"$K$\")\n",
    "\n",
    "## first, plot the historical timeseries\n",
    "axs[0].plot(T2m_WH_hist.year, T2m_WH_hist, label=\"Hist.\")\n",
    "\n",
    "## next, plot the PI-control - the year is arbitrary\n",
    "## (becuase the model's external forcing is constant),\n",
    "## so let's shift the year by 650 years. This means\n",
    "## the last year in the PI-control simulation is the\n",
    "## same as the first year in the historical simulation\n",
    "## (and will make it easier to compare the two in a plot).\n",
    "axs[0].plot(T2m_WH_pico.year + 650, T2m_WH_pico, label=\"PI co.\")\n",
    "\n",
    "\n",
    "#### Second subplot: only show historical simulation\n",
    "axs[1].set_title(\"Historical-only\")\n",
    "axs[1].set_xlabel(\"Year\")\n",
    "\n",
    "## plot data\n",
    "axs[1].plot(T2m_WH_hist.year, T2m_WH_hist, label=\"Hist.\")\n",
    "\n",
    "## make sure ylimit matches first subplot, then hide it\n",
    "axs[1].set_ylim(axs[0].get_ylim())\n",
    "axs[1].set_yticks([])\n",
    "\n",
    "plt.show()"
   ]
  },
  {
   "cell_type": "markdown",
   "id": "c4a8fb09-a2b7-40c9-810a-95f103dc4757",
   "metadata": {},
   "source": [
    "## Part 3: draw random samples from PI-control"
   ]
  },
  {
   "cell_type": "markdown",
   "id": "321de661-c35c-4310-9f7f-b319517aae36",
   "metadata": {},
   "source": [
    "### <mark>To-do:</mark> write function to draw *one* sample\n",
    "We're going to estimate the probability distribution for \n",
    "the PI-control run by drawing lots of random samples (with replacement). Let's start by __writing a function which draws a single random sample__ of length ```nyears``` and computes the mean"
   ]
  },
  {
   "cell_type": "code",
   "execution_count": null,
   "id": "4b0cf2e4-853d-47b5-8681-93d3d9d451db",
   "metadata": {},
   "outputs": [],
   "source": [
    "def get_sample_mean(data, nyears):\n",
    "    \"\"\"\n",
    "    Function draws a random sample from given dataset,\n",
    "    and averages over period.\n",
    "    Args:\n",
    "        'data': xr.DataArray to draw samples from\n",
    "        'nyears': integer specifying how many years in each sample\n",
    "\n",
    "    Returns:\n",
    "        'sample_mean': xr.DataArray containing mean of single sample\n",
    "    \"\"\"\n",
    "\n",
    "    ## To-do: get a random sample\n",
    "    sample_mean = ...\n",
    "\n",
    "    return sample_mean"
   ]
  },
  {
   "cell_type": "markdown",
   "id": "382e9ae5-4691-4a41-8d94-2c027cc12551",
   "metadata": {},
   "source": [
    "### <mark>To-do:</mark> write function to draw *multiple* samples"
   ]
  },
  {
   "cell_type": "code",
   "execution_count": null,
   "id": "ab24327a-c0ef-4b9c-b94f-92cc97acacf2",
   "metadata": {},
   "outputs": [],
   "source": [
    "def get_sample_means(data, nsamples, nyears=30):\n",
    "    \"\"\"\n",
    "    Function draws multiple random samples, by\n",
    "    repeatedly calling the 'get_sample_mean' function.\n",
    "    Args:\n",
    "        'data': xr.DataArray to draw samples from\n",
    "        'nsamples': number of samples to draw\n",
    "        'nyears': number of years in each sample\n",
    "\n",
    "    Returns:\n",
    "        'sample_means' xr.DataArray containing mean for each sample\n",
    "\n",
    "    \"\"\"\n",
    "\n",
    "    ## To-do\n",
    "    sample_means = ...\n",
    "\n",
    "    return sample_means"
   ]
  },
  {
   "cell_type": "markdown",
   "id": "312e2229-63cf-4bea-b91d-360bd2c605b6",
   "metadata": {},
   "source": [
    "### <mark>To-do</mark>: apply this function to get 3,000 random samples."
   ]
  },
  {
   "cell_type": "code",
   "execution_count": null,
   "id": "6622aa37-55a4-4cf3-98a4-12f1c6de87b3",
   "metadata": {},
   "outputs": [],
   "source": [
    "## To-do\n",
    "sample_means = ..."
   ]
  },
  {
   "cell_type": "markdown",
   "id": "33a8356a-4a08-4cbd-a60b-8162875cc190",
   "metadata": {},
   "source": [
    "## Part 4: Make a histogram"
   ]
  },
  {
   "cell_type": "markdown",
   "id": "0b50ec5c-032c-4f48-9c37-41c60abd3728",
   "metadata": {},
   "source": [
    "### Compute histogram of sample means\n",
    "Below, we'll manually specify the edges of each bin in the histogram."
   ]
  },
  {
   "cell_type": "code",
   "execution_count": null,
   "id": "2d0eb273-27fe-4739-a3e3-8ebde0627c6a",
   "metadata": {},
   "outputs": [],
   "source": [
    "bin_width = 0.1\n",
    "bin_edges = np.arange(284.5, 286, bin_width)\n",
    "histogram_pico, _ = np.histogram(sample_means, bins=bin_edges)"
   ]
  },
  {
   "cell_type": "markdown",
   "id": "231fd871-b459-41da-a490-601b43114f59",
   "metadata": {},
   "source": [
    "### <mark>To-do:</mark> compute value in *historical* run\n",
    "Specifically, we'll also compute mean value of the WH index in the historical simulation over the last 30 years."
   ]
  },
  {
   "cell_type": "code",
   "execution_count": null,
   "id": "5ac7a81d-a819-4137-a6e3-72a86cc575a6",
   "metadata": {},
   "outputs": [],
   "source": [
    "## To-do: get mean of last 30 years of historical simulation\n",
    "T2m_last30 = ..."
   ]
  },
  {
   "cell_type": "markdown",
   "id": "467d79e1-0f2a-44d3-b801-f6b42eb6264f",
   "metadata": {},
   "source": [
    "### Plot the result below"
   ]
  },
  {
   "cell_type": "code",
   "execution_count": null,
   "id": "d590898b-4fb9-4701-9b72-b25ef8bdbaa3",
   "metadata": {},
   "outputs": [],
   "source": [
    "## blank canvas for plotting\n",
    "fig, ax = plt.subplots(figsize=(4, 3))\n",
    "\n",
    "## plot the histogram\n",
    "ax.stairs(values=histogram_pico, edges=bin_edges, color=\"k\", label=\"PI-control\")\n",
    "\n",
    "## plot mean value in PI-Control\n",
    "ax.axvline(sample_means.mean(), c=\"k\", ls=\"--\")\n",
    "\n",
    "## plot mean value in last ~30 years for historical\n",
    "ax.axvline(T2m_last30, c=\"r\", ls=\"--\", label=r\"1984-2014\")\n",
    "\n",
    "## label the plot\n",
    "ax.set_ylabel(\"# samples\")\n",
    "ax.set_xlabel(r\"$K$\")\n",
    "ax.set_title(r\"30-year average $T_{2m}$ in Woods Hole\")\n",
    "ax.legend()\n",
    "\n",
    "plt.show()"
   ]
  }
 ],
 "metadata": {
  "kernelspec": {
   "display_name": "Python 3 (ipykernel)",
   "language": "python",
   "name": "python3"
  },
  "language_info": {
   "codemirror_mode": {
    "name": "ipython",
    "version": 3
   },
   "file_extension": ".py",
   "mimetype": "text/x-python",
   "name": "python",
   "nbconvert_exporter": "python",
   "pygments_lexer": "ipython3",
   "version": "3.12.3"
  }
 },
 "nbformat": 4,
 "nbformat_minor": 5
}
