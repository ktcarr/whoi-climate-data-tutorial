{
 "cells": [
  {
   "cell_type": "markdown",
   "id": "d6d1755e-782c-403e-bb88-f36419285b3b",
   "metadata": {},
   "source": [
    "## Check if we're running in Google Colab\n",
    "If you are running in Google Colab, you may have to run the cell below twice because the kernel crashes; I'm not sure why this happens."
   ]
  },
  {
   "cell_type": "code",
   "execution_count": null,
   "id": "4ce9a9fa-f024-40ce-9048-45f82a9e7662",
   "metadata": {},
   "outputs": [],
   "source": [
    "## check if we're in Colab\n",
    "try:\n",
    "    import google.colab\n",
    "\n",
    "    ## install cftime package\n",
    "    !pip install -q condacolab\n",
    "    import condacolab\n",
    "\n",
    "    condacolab.install()\n",
    "\n",
    "    ## install extra packages to colab environment\n",
    "    !mamba install -c conda-forge cftime\n",
    "\n",
    "    ## connect to Google Drive\n",
    "    from google.colab import drive\n",
    "\n",
    "    drive.mount(\"/content/drive\")\n",
    "\n",
    "    ## flag telling us the notebook is running in Colab\n",
    "    IN_COLAB = True\n",
    "\n",
    "except:\n",
    "    IN_COLAB = False"
   ]
  },
  {
   "cell_type": "markdown",
   "id": "d09e5791-63f9-442e-bc28-9e7512406c2d",
   "metadata": {},
   "source": [
    "## Packages"
   ]
  },
  {
   "cell_type": "code",
   "execution_count": null,
   "id": "641745bf-551d-4b00-8ead-99a79f1439d3",
   "metadata": {},
   "outputs": [],
   "source": [
    "import xarray as xr\n",
    "import cftime\n",
    "import os.path\n",
    "import pandas as pd\n",
    "import numpy as np\n",
    "import time\n",
    "import matplotlib.pyplot as plt\n",
    "import seaborn as sns\n",
    "\n",
    "sns.set(rc={\"axes.facecolor\": \"white\", \"axes.grid\": False})"
   ]
  },
  {
   "cell_type": "markdown",
   "id": "bef9322f-553b-4968-8da4-ff22714eb8ac",
   "metadata": {},
   "source": [
    "## <mark>To-do:</mark> Filepaths"
   ]
  },
  {
   "cell_type": "code",
   "execution_count": null,
   "id": "5714a495-5ad0-46c8-9fd0-cf5957e8a5bd",
   "metadata": {},
   "outputs": [],
   "source": [
    "if IN_COLAB:\n",
    "\n",
    "    ## Get prefix common to all filepaths\n",
    "    prefix = \"/content/drive/My Drive/climate-data/1pctCO2\"\n",
    "\n",
    "    ## function to add prefix to path\n",
    "    add_prefix = lambda path: os.path.join(prefix, path)\n",
    "\n",
    "    ## finally, a dictionary with the filepaths\n",
    "    fp_dict = {\n",
    "        \"CSIRO\": add_prefix(\"CSIRO\"),\n",
    "        \"NCAR\": add_prefix(\"NCAR\"),\n",
    "        \"MIROC\": add_prefix(\"MIROC\"),\n",
    "        \"MPI\": add_prefix(\"MPI\"),\n",
    "        \"IPSL\": add_prefix(\"IPSL\"),\n",
    "        \"NASA\": add_prefix(\"NASA\"),\n",
    "    }\n",
    "\n",
    "else:\n",
    "\n",
    "    ## Get prefix common to all filepaths\n",
    "    prefix = \"/Volumes/cmip6/data/cmip6/CMIP\"\n",
    "\n",
    "    ## function to add prefix to path\n",
    "    add_prefix = lambda path: os.path.join(prefix, path)\n",
    "\n",
    "    ## finally, a dictionary with the filepaths\n",
    "    fp_dict = {\n",
    "        \"CSIRO\": add_prefix(\"CSIRO/ACCESS-ESM1-5/1pctCO2/r1i1p1f1/Amon/tas/gn/1\"),\n",
    "        \"NCAR\": add_prefix(\"NCAR/CESM2/1pctCO2/r1i1p1f1/Amon/tas/gn/1\"),\n",
    "        \"MIROC\": add_prefix(\"MIROC/MIROC6/1pctCO2/r1i1p1f1/Amon/tas/gn/1\"),\n",
    "        \"MPI\": add_prefix(\"MPI-M/MPI-ESM1-2-LR/1pctCO2/r1i1p1f1/Amon/tas/gn/1\"),\n",
    "        \"IPSL\": add_prefix(\"IPSL/IPSL-CM6A-LR/1pctCO2/r1i1p1f1/Amon/tas/gr/1\"),\n",
    "        \"NASA\": add_prefix(\"NASA-GISS/GISS-E2-2-G/1pctCO2/r1i1p1f1/Amon/tas/gn/1\"),\n",
    "    }\n",
    "\n",
    "## Get list of models\n",
    "models = list(fp_dict)"
   ]
  },
  {
   "cell_type": "markdown",
   "id": "674cd5c7-525e-4514-98c8-8c1dd12c7dfa",
   "metadata": {},
   "source": [
    "## Climate index function"
   ]
  },
  {
   "cell_type": "code",
   "execution_count": null,
   "id": "e1368537-7939-4793-b65e-0d71282a18cc",
   "metadata": {},
   "outputs": [],
   "source": [
    "def WH_index(T2m):\n",
    "    \"\"\"Function to compute 'Woods Hole climate index. We'll define\n",
    "    this index as the annual-average temperature in the gridcell\n",
    "    closest to the (lon, lat) point (288.5, 41.5).\n",
    "\n",
    "    Args:\n",
    "        T2m: xr.DataArray with dimensions (lon, lat, time)\n",
    "\n",
    "    Returns:\n",
    "        T2m_WH: xr. DataArray with dimension (year)\n",
    "    \"\"\"\n",
    "\n",
    "    ## first, interpolate close to Woods Hole\n",
    "    T2m_WH = T2m.interp(lat=41.5, lon=288.5, method=\"nearest\")\n",
    "\n",
    "    ## then, get annual average\n",
    "    T2m_WH = T2m_WH.groupby(\"time.year\").mean()\n",
    "\n",
    "    return T2m_WH"
   ]
  },
  {
   "cell_type": "markdown",
   "id": "7890dc7e-c360-4d88-97cd-79eaeb093abd",
   "metadata": {},
   "source": [
    "## <mark>To-do:</mark> Compute climate index on each dataset\n",
    "Obtain a list of xr.DataArrays, ```T2m_idx```, where each item in the list represents the climate index timeseries for one of the models. A few hints:\n",
    "- use ```xr.open_mfdataset```\n",
    "    - use the ```preprocess``` argument\n",
    "    - set ```use_cftime=True```, ```mask_and_scale=False```"
   ]
  },
  {
   "cell_type": "code",
   "execution_count": null,
   "id": "4e859182-3718-4bf4-a4e7-4c39585fbbf3",
   "metadata": {},
   "outputs": [],
   "source": [
    "## To-do:\n",
    "T2m_idx = ..."
   ]
  },
  {
   "cell_type": "markdown",
   "id": "93d667f8-a661-4b36-b5de-5d114b4ccadd",
   "metadata": {},
   "source": [
    "## <mark>To-do:</mark> Combine into single dataarray\n",
    "Hint: not all of the items in the list are labeled with the same years. We have to match them before combining."
   ]
  },
  {
   "cell_type": "code",
   "execution_count": null,
   "id": "1a4b4906-0e17-4545-af68-5c9783915487",
   "metadata": {},
   "outputs": [],
   "source": [
    "## to-do: convert from list to dataarray\n",
    "T2m_idx = ..."
   ]
  },
  {
   "cell_type": "markdown",
   "id": "86428cdb-b3cb-47db-b7e1-e7be82fd625d",
   "metadata": {},
   "source": [
    "## <mark>To-do</mark> Get a normalized version of the data \n",
    "To do this, subtract the mean of the first 30 years for each model."
   ]
  },
  {
   "cell_type": "code",
   "execution_count": null,
   "id": "5a56dc90-e6c5-4790-bb7c-cdc572e47302",
   "metadata": {},
   "outputs": [],
   "source": [
    "## To-do: normalize by removing mean of first 30 years\n",
    "T2m_idx_norm = ..."
   ]
  },
  {
   "cell_type": "markdown",
   "id": "b72af3e9-fb17-4dee-b3b8-96bec629a1f3",
   "metadata": {},
   "source": [
    "## <mark>To-do:</mark> Plot results"
   ]
  }
 ],
 "metadata": {
  "kernelspec": {
   "display_name": "Python 3 (ipykernel)",
   "language": "python",
   "name": "python3"
  },
  "language_info": {
   "codemirror_mode": {
    "name": "ipython",
    "version": 3
   },
   "file_extension": ".py",
   "mimetype": "text/x-python",
   "name": "python",
   "nbconvert_exporter": "python",
   "pygments_lexer": "ipython3",
   "version": "3.12.3"
  }
 },
 "nbformat": 4,
 "nbformat_minor": 5
}
