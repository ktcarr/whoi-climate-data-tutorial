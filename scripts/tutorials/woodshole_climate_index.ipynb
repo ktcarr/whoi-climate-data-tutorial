{
 "cells": [
  {
   "cell_type": "markdown",
   "id": "3940e74c-272a-47b7-a8d2-99505f05bd21",
   "metadata": {},
   "source": [
    "See the section on \"defining a climate index\" in the [docs/task_list.md](../../docs/task_list.md) file for instructions for this tutorial. A solution is provided in [here (in the reults folder)](../../results/tutorials/woodshole_climate_index/woodshole_climate_index.md)."
   ]
  },
  {
   "cell_type": "markdown",
   "id": "07f17dc7-654d-42ab-9ade-f9f60170c83c",
   "metadata": {},
   "source": [
    "## Check if we're in Google Colab"
   ]
  },
  {
   "cell_type": "code",
   "execution_count": null,
   "id": "d0aa36cd-5bef-4737-929b-465a7b538a6b",
   "metadata": {},
   "outputs": [],
   "source": [
    "## check if we're in Colab\n",
    "try:\n",
    "    import google.colab\n",
    "\n",
    "    ## install package that allows us to use mamba in Colab\n",
    "    !pip install -q condacolab\n",
    "    import condacolab\n",
    "\n",
    "    condacolab.install()\n",
    "\n",
    "    ## install extra packages to colab environment\n",
    "    !mamba install -c conda-forge python=3.10.13 cmocean xesmf cartopy cftime cartopy\n",
    "\n",
    "    ## connect to Google Drive (will prompt you to ask for permissions)\n",
    "    from google.colab import drive\n",
    "\n",
    "    drive.mount(\"/content/drive\")\n",
    "\n",
    "    ## flag telling us the notebook is running in Colab\n",
    "    IN_COLAB = True\n",
    "\n",
    "except:\n",
    "    IN_COLAB = False"
   ]
  },
  {
   "cell_type": "markdown",
   "id": "920b525b-c92d-453e-879c-aaf2b126ca66",
   "metadata": {},
   "source": [
    "## Filepaths"
   ]
  },
  {
   "cell_type": "code",
   "execution_count": null,
   "id": "62caf5c0-dade-4be4-b21a-4ded2a71cfac",
   "metadata": {},
   "outputs": [],
   "source": [
    "if IN_COLAB:\n",
    "\n",
    "    ## path to ERA5 reanalysis 2m-temperature data\n",
    "    era5_t2m_path = \"/content/drive/My Drive/climate-data/era5/2m_temperature\"\n",
    "\n",
    "    ## path to ERA5 reanalysis sea level pressure data\n",
    "    era5_slp_path = \"/content/drive/My Drive/climate-data/era5/mean_sea_level_pressure\"\n",
    "\n",
    "    ## path to MIROC6 SST data\n",
    "    miroc6_path = \"/content/drive/My Drive/climate-data\"\n",
    "\n",
    "else:\n",
    "\n",
    "    ## path to ERA5 reanalysis 2m-temperature data\n",
    "    era5_t2m_path = (\n",
    "        \"/Volumes/cmip6/data/era5/reanalysis/single-levels/monthly-means/2m_temperature\"\n",
    "    )\n",
    "\n",
    "    ## path to ERA5 reanalysis sea level pressure data\n",
    "    era5_slp_path = \"/Volumes/cmip6/data/era5/reanalysis/single-levels/monthly-means/mean_sea_level_pressure\"\n",
    "\n",
    "    ## path to MIROC6 sea surface temperature data\n",
    "    miroc6_path = (\n",
    "        \"/Volumes/cmip6/data/cmip6/CMIP/MIROC/MIROC6/historical/r1i1p1f1/Omon/tos/gn/1\"\n",
    "    )"
   ]
  },
  {
   "cell_type": "markdown",
   "id": "4cb6fd54-1418-435c-82cf-cba3d7b08002",
   "metadata": {},
   "source": [
    "## Imports"
   ]
  },
  {
   "cell_type": "code",
   "execution_count": null,
   "id": "19d7fb5d-e650-48b3-ba72-0fe51d6d3fac",
   "metadata": {},
   "outputs": [],
   "source": [
    "import xarray as xr\n",
    "import numpy as np\n",
    "import pandas as pd\n",
    "from tqdm import tqdm\n",
    "import matplotlib.pyplot as plt\n",
    "import cmocean\n",
    "from matplotlib.dates import DateFormatter\n",
    "import seaborn as sns\n",
    "import glob\n",
    "import cftime\n",
    "import cartopy.crs as ccrs\n",
    "import matplotlib.ticker as mticker\n",
    "import matplotlib.dates as mdates\n",
    "import os.path\n",
    "\n",
    "## set plotting style\n",
    "sns.set(rc={\"axes.facecolor\": \"white\", \"axes.grid\": False})\n",
    "\n",
    "## initialize random number generator\n",
    "rng = np.random.default_rng()"
   ]
  }
 ],
 "metadata": {
  "kernelspec": {
   "display_name": "Python 3 (ipykernel)",
   "language": "python",
   "name": "python3"
  },
  "language_info": {
   "codemirror_mode": {
    "name": "ipython",
    "version": 3
   },
   "file_extension": ".py",
   "mimetype": "text/x-python",
   "name": "python",
   "nbconvert_exporter": "python",
   "pygments_lexer": "ipython3",
   "version": "3.12.3"
  }
 },
 "nbformat": 4,
 "nbformat_minor": 5
}
